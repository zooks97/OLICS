{
 "cells": [
  {
   "cell_type": "code",
   "execution_count": 13,
   "metadata": {},
   "outputs": [
    {
     "name": "stdout",
     "output_type": "stream",
     "text": [
      "[0.9999999999999999, 1.0]\n",
      "(2, 6)\n",
      "(2, 6)\n",
      "[1.0, 1.0]\n",
      "(2, 6)\n",
      "(2, 6)\n",
      "[1.0, 0.9999999999999998, 1.0000000000000002, 1.0, 0.9999999999999998]\n",
      "(5, 6)\n",
      "(5, 6)\n",
      "[1.0, 0.9999999999999999, 1.0000000000000002, 0.9999999999999999, 0.9999999999999999]\n",
      "(5, 6)\n",
      "(5, 6)\n",
      "[1.0, 1.0, 1.0, 1.0, 1.0, 1.0]\n",
      "(6, 6)\n",
      "(6, 6)\n",
      "[1.0, 0.9999999999999999, 1.0]\n",
      "(3, 6)\n",
      "(3, 6)\n",
      "[1.0, 1.0]\n",
      "(2, 6)\n",
      "(2, 6)\n",
      "[1.0, 0.9999999999999998]\n",
      "(2, 6)\n",
      "(2, 6)\n",
      "[1.0, 1.0]\n",
      "(2, 6)\n",
      "(2, 6)\n",
      "[1.0, 1.0]\n",
      "(2, 6)\n",
      "(2, 6)\n"
     ]
    }
   ],
   "source": [
    "import json\n",
    "import numpy as np\n",
    "import pandas as pd\n",
    "\n",
    "\n",
    "\n",
    "with open('D_OLICS.json', 'r') as o:\n",
    "    d = json.load(o)\n",
    "\n",
    "with open('all_OLICS_tables.tex','w') as tf:  \n",
    "    tf.write('\\section{D-OLICS for all Laue groups}\\n')    \n",
    "    \n",
    "    \n",
    "for inn in sorted(d.keys()):\n",
    "    v = d[inn]\n",
    "    if len(v['D-OLICS']) == 1:\n",
    "        vectors = np.round(v['D-OLICS'], 8)\n",
    "        vec = pd.DataFrame(data=vectors.T, \n",
    "                   index=[1,2,3,4,5,6] , \n",
    "                   columns=['D-OLICS {}'.format(i+1) for i in range(len(v['D-OLICS']))])\n",
    "\n",
    "        with open('all_OLICS_tables.tex','a+') as tf:  \n",
    "             tf.write(vec.to_latex().replace('\\n', '\\n\\\\caption{'  + 'D-optimal OLICS for Laue group {}.'.format(inn)  + '}\\\\\\\\\\n', 1))\n",
    "    else:\n",
    "        print [np.linalg.norm(k) for k in v['D-OLICS']]\n",
    "        angles = np.zeros((len(v['D-OLICS']), len(v['D-OLICS'])))\n",
    "        print np.array(v['D-OLICS']).shape\n",
    "        vectors = np.round(v['D-OLICS'], 8)\n",
    "        print vectors.shape\n",
    "        for ik, k in enumerate(v['D-OLICS']):\n",
    "            \n",
    "             for ij, j in enumerate(v['D-OLICS']):\n",
    "                angles[ik, ij] = np.round(180./np.pi*np.arccos(np.round(np.dot(k,j), 11)),1)\n",
    "        an = pd.DataFrame(data=angles, \n",
    "                          index=['D-OLICS {}'.format(i+1) for i in range(len(v['D-OLICS']))], \n",
    "                          columns=['D-OLICS {}'.format(i+1) for i in range(len(v['D-OLICS']))])\n",
    "        vec = pd.DataFrame(data=vectors.T, \n",
    "                           index=[1,2,3,4,5,6] , \n",
    "                           columns=['D-OLICS {}'.format(i+1) for i in range(len(v['D-OLICS']))])\n",
    "\n",
    "        with open('all_OLICS_tables.tex','a+') as tf:  \n",
    "             tf.write(vec.to_latex().replace('\\n', '\\n\\\\caption{'  + 'D-optimal OLICS and included angles for Laue group {}.'.format(inn)  + '}\\\\\\\\\\n', 1))\n",
    "        with open('all_OLICS_tables.tex','a+') as tf:\n",
    "             tf.write(an.to_latex())\n"
   ]
  },
  {
   "cell_type": "code",
   "execution_count": 5,
   "metadata": {},
   "outputs": [
    {
     "name": "stdout",
     "output_type": "stream",
     "text": [
      "                  1         2         3         4         5         6\n",
      "D-OLICS 1 -0.636411 -0.327210 -0.188992 -0.672456  0.000019  0.000023\n",
      "D-OLICS 2  0.341858 -0.609124  0.681389 -0.218656 -0.000021  0.000029\n"
     ]
    }
   ],
   "source": [
    "print vec\n"
   ]
  },
  {
   "cell_type": "code",
   "execution_count": null,
   "metadata": {},
   "outputs": [],
   "source": []
  }
 ],
 "metadata": {
  "kernelspec": {
   "display_name": "Python 3",
   "language": "python",
   "name": "python3"
  },
  "language_info": {
   "codemirror_mode": {
    "name": "ipython",
    "version": 3
   },
   "file_extension": ".py",
   "mimetype": "text/x-python",
   "name": "python",
   "nbconvert_exporter": "python",
   "pygments_lexer": "ipython3",
   "version": "3.7.3"
  }
 },
 "nbformat": 4,
 "nbformat_minor": 4
}
