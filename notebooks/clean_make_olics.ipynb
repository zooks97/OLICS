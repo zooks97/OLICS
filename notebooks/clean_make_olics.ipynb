{
 "cells": [
  {
   "cell_type": "code",
   "execution_count": null,
   "metadata": {},
   "outputs": [],
   "source": [
    "from olics import *\n",
    "    \n",
    "olics_results = {}"
   ]
  },
  {
   "cell_type": "code",
   "execution_count": null,
   "metadata": {},
   "outputs": [],
   "source": [
    "from olics import *\n",
    "\n",
    "results = {}\n",
    "\n",
    "sorted_laue = sorted(LAUE_NAMES.keys())\n",
    "for laue in sorted_laue:\n",
    "    n_iter = 10\n",
    "    random_tests = 1_000_000\n",
    "\n",
    "    temp_results = []\n",
    "    temp_costs = []\n",
    "\n",
    "    for i in range(n_iter):\n",
    "        print('Iteration {}'.format(i))\n",
    "        temp_result = generate_olics(laue, tol=1e-8, num_itermax=10_000, random_tests=1_000_000, basin_tests=4, step_size=1e-2, additional_strains=1, max_workers=8)\n",
    "        temp_results.append(temp_result['OLICS ({})'.format(laue)])\n",
    "        temp_costs.append(temp_result['COST ({})'.format(laue)])\n",
    "\n",
    "    result = {\n",
    "        'OLICS ({})'.format(laue): temp_results[np.argmin(temp_costs)],\n",
    "        'COST: ({})'.format(laue): temp_costs[np.argmin(temp_costs)]\n",
    "    }\n",
    "    results[laue] = result\n",
    "    display(result)\n",
    "    \n",
    "with open('n_plus_one_olics.json', 'w') as f:\n",
    "    json.dump(results, f)"
   ]
  },
  {
   "cell_type": "code",
   "execution_count": null,
   "metadata": {},
   "outputs": [],
   "source": [
    "sorted_laue = sorted(LAUE_NAMES.keys())\n",
    "for laue in sorted_laue:\n",
    "    olics_results[laue] = generate_olics(laue, num_itermax=100, random_tests=10,\n",
    "                                         basin_tests=1, step_size=1, additional_strains=1,\n",
    "                                         max_workers=8)"
   ]
  }
 ],
 "metadata": {
  "kernelspec": {
   "display_name": "Python 3",
   "language": "python",
   "name": "python3"
  },
  "language_info": {
   "codemirror_mode": {
    "name": "ipython",
    "version": 3
   },
   "file_extension": ".py",
   "mimetype": "text/x-python",
   "name": "python",
   "nbconvert_exporter": "python",
   "pygments_lexer": "ipython3",
   "version": "3.7.3"
  }
 },
 "nbformat": 4,
 "nbformat_minor": 4
}
